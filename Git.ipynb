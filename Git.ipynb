{
 "cells": [
  {
   "cell_type": "code",
   "execution_count": 2,
   "metadata": {},
   "outputs": [],
   "source": [
    "!touch gitignore"
   ]
  },
  {
   "cell_type": "code",
   "execution_count": 9,
   "metadata": {},
   "outputs": [],
   "source": [
    "!git add ."
   ]
  },
  {
   "cell_type": "code",
   "execution_count": null,
   "metadata": {},
   "outputs": [],
   "source": []
  },
  {
   "cell_type": "code",
   "execution_count": null,
   "metadata": {},
   "outputs": [
    {
     "name": "stdout",
     "output_type": "stream",
     "text": [
      "[master bcbfd93] run\n",
      " 4 files changed, 68 insertions(+), 5 deletions(-)\n",
      " create mode 100644 .ipynb_checkpoints/mlflowtrack-checkpoint.py\n",
      " create mode 100644 __pycache__/mlflowtrack.cpython-36.pyc\n",
      "\u001b[KEnumerating objects: 8, done.\n",
      "\u001b[KCounting objects: 100% (8/8), done.\n",
      "Delta compression using up to 12 threads\n",
      "\u001b[KCompressing objects: 100% (6/6), done.\n",
      "\u001b[KWriting objects: 100% (6/6), 1.84 KiB | 1.84 MiB/s, done.\n",
      "Total 6 (delta 1), reused 0 (delta 0)\n",
      "remote: Resolving deltas: 100% (1/1), completed with 1 local object.\u001b[K\n",
      "To github.com:Paritosh535/ML_Track.git\n",
      "   716e668..bcbfd93  master -> master\n",
      "[master 21e0920] run\n",
      " 1 file changed, 1 insertion(+), 1 deletion(-)\n",
      "\u001b[KEnumerating objects: 5, done.\n",
      "\u001b[KCounting objects: 100% (5/5), done.\n",
      "Delta compression using up to 12 threads\n",
      "\u001b[KCompressing objects: 100% (3/3), done.\n",
      "\u001b[KWriting objects: 100% (3/3), 284 bytes | 284.00 KiB/s, done.\n",
      "Total 3 (delta 2), reused 0 (delta 0)\n",
      "remote: Resolving deltas: 100% (2/2), completed with 2 local objects.\u001b[K\n",
      "To github.com:Paritosh535/ML_Track.git\n",
      "   bcbfd93..21e0920  master -> master\n",
      "[master a54d8e1] run\n",
      " 1 file changed, 1 insertion(+), 1 deletion(-)\n",
      "\u001b[KEnumerating objects: 5, done.\n",
      "\u001b[KCounting objects: 100% (5/5), done.\n",
      "Delta compression using up to 12 threads\n",
      "\u001b[KCompressing objects: 100% (3/3), done.\n",
      "\u001b[KWriting objects: 100% (3/3), 284 bytes | 284.00 KiB/s, done.\n",
      "Total 3 (delta 2), reused 0 (delta 0)\n",
      "remote: Resolving deltas: 100% (2/2), completed with 2 local objects.\u001b[K\n",
      "To github.com:Paritosh535/ML_Track.git\n",
      "   21e0920..a54d8e1  master -> master\n",
      "[master fe78412] run\n",
      " 1 file changed, 1 insertion(+), 1 deletion(-)\n",
      "\u001b[KEnumerating objects: 5, done.\n",
      "\u001b[KCounting objects: 100% (5/5), done.\n",
      "Delta compression using up to 12 threads\n",
      "\u001b[KCompressing objects: 100% (3/3), done.\n",
      "\u001b[KWriting objects: 100% (3/3), 286 bytes | 286.00 KiB/s, done.\n",
      "Total 3 (delta 2), reused 0 (delta 0)\n",
      "remote: Resolving deltas: 100% (2/2), completed with 2 local objects.\u001b[K\n",
      "To github.com:Paritosh535/ML_Track.git\n",
      "   a54d8e1..fe78412  master -> master\n",
      "[master 3953e4f] run\n",
      " 1 file changed, 1 insertion(+), 1 deletion(-)\n",
      "\u001b[KEnumerating objects: 5, done.\n",
      "\u001b[KCounting objects: 100% (5/5), done.\n",
      "Delta compression using up to 12 threads\n",
      "\u001b[KCompressing objects: 100% (3/3), done.\n",
      "\u001b[KWriting objects: 100% (3/3), 284 bytes | 284.00 KiB/s, done.\n",
      "Total 3 (delta 2), reused 0 (delta 0)\n",
      "remote: Resolving deltas: 100% (2/2), completed with 2 local objects.\u001b[K\n",
      "To github.com:Paritosh535/ML_Track.git\n",
      "   fe78412..3953e4f  master -> master\n",
      "[master 070401a] run\n",
      " 1 file changed, 1 insertion(+), 1 deletion(-)\n",
      "\u001b[KEnumerating objects: 5, done.\n",
      "\u001b[KCounting objects: 100% (5/5), done.\n",
      "Delta compression using up to 12 threads\n",
      "\u001b[KCompressing objects: 100% (3/3), done.\n",
      "\u001b[KWriting objects: 100% (3/3), 285 bytes | 285.00 KiB/s, done.\n",
      "Total 3 (delta 2), reused 0 (delta 0)\n",
      "remote: Resolving deltas: 100% (2/2), completed with 2 local objects.\u001b[K\n",
      "To github.com:Paritosh535/ML_Track.git\n",
      "   3953e4f..070401a  master -> master\n",
      "[master 6a57439] run\n",
      " 1 file changed, 1 insertion(+), 1 deletion(-)\n",
      "\u001b[KEnumerating objects: 5, done.\n",
      "\u001b[KCounting objects: 100% (5/5), done.\n",
      "Delta compression using up to 12 threads\n",
      "\u001b[KCompressing objects: 100% (3/3), done.\n",
      "\u001b[KWriting objects: 100% (3/3), 286 bytes | 286.00 KiB/s, done.\n",
      "Total 3 (delta 2), reused 0 (delta 0)\n",
      "remote: Resolving deltas: 100% (2/2), completed with 2 local objects.\u001b[K\n",
      "To github.com:Paritosh535/ML_Track.git\n",
      "   070401a..6a57439  master -> master\n",
      "[master 11c864d] run\n",
      " 1 file changed, 1 insertion(+), 1 deletion(-)\n",
      "\u001b[KEnumerating objects: 5, done.\n",
      "\u001b[KCounting objects: 100% (5/5), done.\n",
      "Delta compression using up to 12 threads\n",
      "\u001b[KCompressing objects: 100% (3/3), done.\n",
      "\u001b[KWriting objects: 100% (3/3), 283 bytes | 283.00 KiB/s, done.\n",
      "Total 3 (delta 2), reused 0 (delta 0)\n",
      "remote: Resolving deltas: 100% (2/2), completed with 2 local objects.\u001b[K\n",
      "To github.com:Paritosh535/ML_Track.git\n",
      "   6a57439..11c864d  master -> master\n",
      "[master 9b65bbb] run\n",
      " 1 file changed, 1 insertion(+), 1 deletion(-)\n",
      "\u001b[KEnumerating objects: 5, done.\n",
      "\u001b[KCounting objects: 100% (5/5), done.\n",
      "Delta compression using up to 12 threads\n",
      "\u001b[KCompressing objects: 100% (3/3), done.\n",
      "\u001b[KWriting objects: 100% (3/3), 285 bytes | 285.00 KiB/s, done.\n",
      "Total 3 (delta 2), reused 0 (delta 0)\n",
      "remote: Resolving deltas: 100% (2/2), completed with 2 local objects.\u001b[K\n",
      "To github.com:Paritosh535/ML_Track.git\n",
      "   11c864d..9b65bbb  master -> master\n",
      "[master e52fd61] run\n",
      " 1 file changed, 1 insertion(+), 1 deletion(-)\n",
      "\u001b[KEnumerating objects: 5, done.\n",
      "\u001b[KCounting objects: 100% (5/5), done.\n",
      "Delta compression using up to 12 threads\n",
      "\u001b[KCompressing objects: 100% (3/3), done.\n",
      "\u001b[KWriting objects: 100% (3/3), 285 bytes | 285.00 KiB/s, done.\n",
      "Total 3 (delta 2), reused 0 (delta 0)\n",
      "remote: Resolving deltas: 100% (2/2), completed with 2 local objects.\u001b[K\n",
      "To github.com:Paritosh535/ML_Track.git\n",
      "   9b65bbb..e52fd61  master -> master\n",
      "[master 3fca3c7] run\n",
      " 1 file changed, 1 insertion(+), 1 deletion(-)\n",
      "\u001b[KEnumerating objects: 5, done.\n",
      "\u001b[KCounting objects: 100% (5/5), done.\n",
      "Delta compression using up to 12 threads\n",
      "\u001b[KCompressing objects: 100% (3/3), done.\n",
      "\u001b[KWriting objects: 100% (3/3), 286 bytes | 286.00 KiB/s, done.\n",
      "Total 3 (delta 2), reused 0 (delta 0)\n",
      "remote: Resolving deltas: 100% (2/2), completed with 2 local objects.\u001b[K\n",
      "To github.com:Paritosh535/ML_Track.git\n",
      "   e52fd61..3fca3c7  master -> master\n",
      "[master 92b2b9b] run\n",
      " 1 file changed, 1 insertion(+), 1 deletion(-)\n"
     ]
    }
   ],
   "source": [
    "for x in range(50):\n",
    "    f=open(\"README.md\",\"a+\")\n",
    "    f.write(f\"{x}\")\n",
    "    !git add .\n",
    "    !git commit -m \"run\"\n",
    "    !git push origin master"
   ]
  },
  {
   "cell_type": "code",
   "execution_count": 8,
   "metadata": {},
   "outputs": [
    {
     "name": "stdout",
     "output_type": "stream",
     "text": [
      "\u001b[KEnumerating objects: 8, done.\n",
      "\u001b[KCounting objects: 100% (8/8), done.\n",
      "Delta compression using up to 12 threads\n",
      "\u001b[KCompressing objects: 100% (5/5), done.\n",
      "\u001b[KWriting objects: 100% (5/5), 1.24 KiB | 1.24 MiB/s, done.\n",
      "Total 5 (delta 0), reused 0 (delta 0)\n",
      "To github.com:Paritosh535/ML_Track.git\n",
      "   79182e7..9071adb  master -> master\n"
     ]
    }
   ],
   "source": [
    "!git push origin master"
   ]
  },
  {
   "cell_type": "code",
   "execution_count": null,
   "metadata": {},
   "outputs": [],
   "source": []
  }
 ],
 "metadata": {
  "kernelspec": {
   "display_name": "Python 3",
   "language": "python",
   "name": "python3"
  },
  "language_info": {
   "codemirror_mode": {
    "name": "ipython",
    "version": 3
   },
   "file_extension": ".py",
   "mimetype": "text/x-python",
   "name": "python",
   "nbconvert_exporter": "python",
   "pygments_lexer": "ipython3",
   "version": "3.6.9"
  }
 },
 "nbformat": 4,
 "nbformat_minor": 4
}
