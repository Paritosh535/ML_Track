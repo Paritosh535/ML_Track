{
 "cells": [
  {
   "cell_type": "code",
   "execution_count": 2,
   "metadata": {},
   "outputs": [],
   "source": [
    "!touch gitignore"
   ]
  },
  {
   "cell_type": "code",
   "execution_count": 3,
   "metadata": {},
   "outputs": [],
   "source": [
    "!git add ."
   ]
  },
  {
   "cell_type": "code",
   "execution_count": 4,
   "metadata": {},
   "outputs": [
    {
     "name": "stdout",
     "output_type": "stream",
     "text": [
      "[master 79182e7] add\n",
      " 5 files changed, 77 insertions(+)\n",
      " create mode 100644 .ipynb_checkpoints/Git-checkpoint.ipynb\n",
      " create mode 100644 .ipynb_checkpoints/gitignore-checkpoint\n",
      " create mode 100644 Git.ipynb\n",
      " create mode 100644 gitignore\n",
      " create mode 100644 mlflowtrack.py\n"
     ]
    }
   ],
   "source": [
    "!git commit -m \"add\""
   ]
  },
  {
   "cell_type": "code",
   "execution_count": null,
   "metadata": {},
   "outputs": [
    {
     "name": "stdout",
     "output_type": "stream",
     "text": [
      "\u001b[KEnumerating objects: 7, done.\n",
      "\u001b[KCounting objects: 100% (7/7), done.\n",
      "Delta compression using up to 12 threads\n",
      "\u001b[KCompressing objects: 100% (5/5), done.\n",
      "\u001b[KWriting objects: 100% (6/6), 1.20 KiB | 1.20 MiB/s, done.\n",
      "Total 6 (delta 0), reused 0 (delta 0)\n"
     ]
    }
   ],
   "source": [
    "!git push origin master"
   ]
  },
  {
   "cell_type": "code",
   "execution_count": null,
   "metadata": {},
   "outputs": [],
   "source": []
  }
 ],
 "metadata": {
  "kernelspec": {
   "display_name": "Python 3",
   "language": "python",
   "name": "python3"
  },
  "language_info": {
   "codemirror_mode": {
    "name": "ipython",
    "version": 3
   },
   "file_extension": ".py",
   "mimetype": "text/x-python",
   "name": "python",
   "nbconvert_exporter": "python",
   "pygments_lexer": "ipython3",
   "version": "3.6.9"
  }
 },
 "nbformat": 4,
 "nbformat_minor": 4
}
