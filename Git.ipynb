{
 "cells": [
  {
   "cell_type": "code",
   "execution_count": 2,
   "metadata": {},
   "outputs": [],
   "source": [
    "!touch gitignore"
   ]
  },
  {
   "cell_type": "code",
   "execution_count": 9,
   "metadata": {},
   "outputs": [],
   "source": [
    "!git add ."
   ]
  },
  {
   "cell_type": "code",
   "execution_count": null,
   "metadata": {},
   "outputs": [],
   "source": []
  },
  {
   "cell_type": "code",
   "execution_count": null,
   "metadata": {},
   "outputs": [
    {
     "name": "stdout",
     "output_type": "stream",
     "text": [
      "[master 190b48c] run\n",
      " 1 file changed, 7 insertions(+), 6 deletions(-)\n",
      "\u001b[KEnumerating objects: 5, done.\n",
      "\u001b[KCounting objects: 100% (5/5), done.\n",
      "Delta compression using up to 12 threads\n",
      "\u001b[KCompressing objects: 100% (3/3), done.\n",
      "\u001b[KWriting objects: 100% (3/3), 409 bytes | 409.00 KiB/s, done.\n",
      "Total 3 (delta 2), reused 0 (delta 0)\n",
      "remote: Resolving deltas: 100% (2/2), completed with 2 local objects.\u001b[K\n",
      "To github.com:Paritosh535/ML_Track.git\n",
      "   1b7304c..190b48c  master -> master\n",
      "[master 8b737b3] run\n",
      " 1 file changed, 1 insertion(+), 1 deletion(-)\n",
      "\u001b[KEnumerating objects: 5, done.\n",
      "\u001b[KCounting objects: 100% (5/5), done.\n",
      "Delta compression using up to 12 threads\n",
      "\u001b[KCompressing objects: 100% (3/3), done.\n",
      "\u001b[KWriting objects: 100% (3/3), 284 bytes | 284.00 KiB/s, done.\n",
      "Total 3 (delta 2), reused 0 (delta 0)\n",
      "remote: Resolving deltas: 100% (2/2), completed with 2 local objects.\u001b[K\n",
      "To github.com:Paritosh535/ML_Track.git\n",
      "   190b48c..8b737b3  master -> master\n",
      "[master 1996bf2] run\n",
      " 1 file changed, 1 insertion(+), 1 deletion(-)\n",
      "\u001b[KEnumerating objects: 5, done.\n",
      "\u001b[KCounting objects: 100% (5/5), done.\n",
      "Delta compression using up to 12 threads\n",
      "\u001b[KCompressing objects: 100% (3/3), done.\n",
      "\u001b[KWriting objects: 100% (3/3), 284 bytes | 284.00 KiB/s, done.\n",
      "Total 3 (delta 2), reused 0 (delta 0)\n",
      "remote: Resolving deltas: 100% (2/2), completed with 2 local objects.\u001b[K\n",
      "To github.com:Paritosh535/ML_Track.git\n",
      "   8b737b3..1996bf2  master -> master\n",
      "[master 77b4fe5] run\n",
      " 1 file changed, 1 insertion(+), 1 deletion(-)\n",
      "\u001b[KEnumerating objects: 5, done.\n",
      "\u001b[KCounting objects: 100% (5/5), done.\n",
      "Delta compression using up to 12 threads\n",
      "\u001b[KCompressing objects: 100% (3/3), done.\n",
      "\u001b[KWriting objects: 100% (3/3), 287 bytes | 287.00 KiB/s, done.\n",
      "Total 3 (delta 2), reused 0 (delta 0)\n",
      "remote: Resolving deltas: 100% (2/2), completed with 2 local objects.\u001b[K\n",
      "To github.com:Paritosh535/ML_Track.git\n",
      "   1996bf2..77b4fe5  master -> master\n",
      "[master 6153c26] run\n",
      " 1 file changed, 1 insertion(+), 1 deletion(-)\n",
      "\u001b[KEnumerating objects: 5, done.\n",
      "\u001b[KCounting objects: 100% (5/5), done.\n",
      "Delta compression using up to 12 threads\n",
      "\u001b[KCompressing objects: 100% (3/3), done.\n",
      "\u001b[KWriting objects: 100% (3/3), 284 bytes | 284.00 KiB/s, done.\n",
      "Total 3 (delta 2), reused 0 (delta 0)\n",
      "remote: Resolving deltas: 100% (2/2), completed with 2 local objects.\u001b[K\n",
      "To github.com:Paritosh535/ML_Track.git\n",
      "   77b4fe5..6153c26  master -> master\n",
      "[master 2f7f89e] run\n",
      " 1 file changed, 1 insertion(+), 1 deletion(-)\n",
      "\u001b[KEnumerating objects: 5, done.\n",
      "\u001b[KCounting objects: 100% (5/5), done.\n",
      "Delta compression using up to 12 threads\n",
      "\u001b[KCompressing objects: 100% (3/3), done.\n",
      "\u001b[KWriting objects: 100% (3/3), 285 bytes | 285.00 KiB/s, done.\n",
      "Total 3 (delta 2), reused 0 (delta 0)\n",
      "remote: Resolving deltas: 100% (2/2), completed with 2 local objects.\u001b[K\n",
      "To github.com:Paritosh535/ML_Track.git\n",
      "   6153c26..2f7f89e  master -> master\n",
      "[master 18cdbb1] run\n",
      " 1 file changed, 1 insertion(+), 1 deletion(-)\n",
      "\u001b[KEnumerating objects: 5, done.\n",
      "\u001b[KCounting objects: 100% (5/5), done.\n",
      "Delta compression using up to 12 threads\n",
      "\u001b[KCompressing objects: 100% (3/3), done.\n",
      "\u001b[KWriting objects: 100% (3/3), 285 bytes | 285.00 KiB/s, done.\n",
      "Total 3 (delta 2), reused 0 (delta 0)\n",
      "remote: Resolving deltas: 100% (2/2), completed with 2 local objects.\u001b[K\n",
      "To github.com:Paritosh535/ML_Track.git\n",
      "   2f7f89e..18cdbb1  master -> master\n",
      "[master 38f5ba4] run\n",
      " 1 file changed, 1 insertion(+), 1 deletion(-)\n",
      "\u001b[KEnumerating objects: 5, done.\n",
      "\u001b[KCounting objects: 100% (5/5), done.\n",
      "Delta compression using up to 12 threads\n",
      "\u001b[KCompressing objects: 100% (3/3), done.\n",
      "\u001b[KWriting objects: 100% (3/3), 284 bytes | 284.00 KiB/s, done.\n",
      "Total 3 (delta 2), reused 0 (delta 0)\n",
      "remote: Resolving deltas: 100% (2/2), completed with 2 local objects.\u001b[K\n",
      "To github.com:Paritosh535/ML_Track.git\n",
      "   18cdbb1..38f5ba4  master -> master\n",
      "[master a75f273] run\n",
      " 1 file changed, 1 insertion(+), 1 deletion(-)\n",
      "\u001b[KEnumerating objects: 5, done.\n",
      "\u001b[KCounting objects: 100% (5/5), done.\n",
      "Delta compression using up to 12 threads\n",
      "\u001b[KCompressing objects: 100% (3/3), done.\n",
      "\u001b[KWriting objects: 100% (3/3), 284 bytes | 284.00 KiB/s, done.\n",
      "Total 3 (delta 2), reused 0 (delta 0)\n",
      "remote: Resolving deltas: 100% (2/2), completed with 2 local objects.\u001b[K\n"
     ]
    }
   ],
   "source": [
    "for x in range(50):\n",
    "    f=open(\"README.md\",\"a+\")\n",
    "    f.write(f\"{x}\")\n",
    "    !git add .\n",
    "    !git commit -m \"run\"\n",
    "    !git push origin master"
   ]
  },
  {
   "cell_type": "code",
   "execution_count": 8,
   "metadata": {},
   "outputs": [
    {
     "name": "stdout",
     "output_type": "stream",
     "text": [
      "\u001b[KEnumerating objects: 8, done.\n",
      "\u001b[KCounting objects: 100% (8/8), done.\n",
      "Delta compression using up to 12 threads\n",
      "\u001b[KCompressing objects: 100% (5/5), done.\n",
      "\u001b[KWriting objects: 100% (5/5), 1.24 KiB | 1.24 MiB/s, done.\n",
      "Total 5 (delta 0), reused 0 (delta 0)\n",
      "To github.com:Paritosh535/ML_Track.git\n",
      "   79182e7..9071adb  master -> master\n"
     ]
    }
   ],
   "source": [
    "!git push origin master"
   ]
  },
  {
   "cell_type": "code",
   "execution_count": null,
   "metadata": {},
   "outputs": [],
   "source": []
  }
 ],
 "metadata": {
  "kernelspec": {
   "display_name": "Python 3",
   "language": "python",
   "name": "python3"
  },
  "language_info": {
   "codemirror_mode": {
    "name": "ipython",
    "version": 3
   },
   "file_extension": ".py",
   "mimetype": "text/x-python",
   "name": "python",
   "nbconvert_exporter": "python",
   "pygments_lexer": "ipython3",
   "version": "3.6.9"
  }
 },
 "nbformat": 4,
 "nbformat_minor": 4
}
