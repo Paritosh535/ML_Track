{
 "cells": [
  {
   "cell_type": "code",
   "execution_count": 2,
   "metadata": {},
   "outputs": [],
   "source": [
    "!touch gitignore"
   ]
  },
  {
   "cell_type": "code",
   "execution_count": 9,
   "metadata": {},
   "outputs": [],
   "source": [
    "!git add ."
   ]
  },
  {
   "cell_type": "code",
   "execution_count": null,
   "metadata": {},
   "outputs": [],
   "source": []
  },
  {
   "cell_type": "code",
   "execution_count": 12,
   "metadata": {},
   "outputs": [
    {
     "name": "stdout",
     "output_type": "stream",
     "text": [
      "[master fdabd55] run\n",
      " 2 files changed, 2 insertions(+), 2 deletions(-)\n",
      "\u001b[KEnumerating objects: 7, done.\n",
      "\u001b[KCounting objects: 100% (7/7), done.\n",
      "Delta compression using up to 12 threads\n",
      "\u001b[KCompressing objects: 100% (4/4), done.\n",
      "\u001b[KWriting objects: 100% (4/4), 387 bytes | 387.00 KiB/s, done.\n",
      "Total 4 (delta 3), reused 0 (delta 0)\n",
      "remote: Resolving deltas: 100% (3/3), completed with 3 local objects.\u001b[K\n",
      "To github.com:Paritosh535/ML_Track.git\n",
      "   74878c0..fdabd55  master -> master\n"
     ]
    }
   ],
   "source": [
    "\n",
    "!git add .\n",
    "!git commit -m \"run\"\n",
    "!git push origin master"
   ]
  },
  {
   "cell_type": "code",
   "execution_count": 8,
   "metadata": {},
   "outputs": [
    {
     "name": "stdout",
     "output_type": "stream",
     "text": [
      "\u001b[KEnumerating objects: 8, done.\n",
      "\u001b[KCounting objects: 100% (8/8), done.\n",
      "Delta compression using up to 12 threads\n",
      "\u001b[KCompressing objects: 100% (5/5), done.\n",
      "\u001b[KWriting objects: 100% (5/5), 1.24 KiB | 1.24 MiB/s, done.\n",
      "Total 5 (delta 0), reused 0 (delta 0)\n",
      "To github.com:Paritosh535/ML_Track.git\n",
      "   79182e7..9071adb  master -> master\n"
     ]
    }
   ],
   "source": [
    "!git push origin master"
   ]
  },
  {
   "cell_type": "code",
   "execution_count": null,
   "metadata": {},
   "outputs": [],
   "source": []
  }
 ],
 "metadata": {
  "kernelspec": {
   "display_name": "Python 3",
   "language": "python",
   "name": "python3"
  },
  "language_info": {
   "codemirror_mode": {
    "name": "ipython",
    "version": 3
   },
   "file_extension": ".py",
   "mimetype": "text/x-python",
   "name": "python",
   "nbconvert_exporter": "python",
   "pygments_lexer": "ipython3",
   "version": "3.6.9"
  }
 },
 "nbformat": 4,
 "nbformat_minor": 4
}
